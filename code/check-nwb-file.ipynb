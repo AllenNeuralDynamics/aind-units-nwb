{
 "cells": [
  {
   "cell_type": "code",
   "execution_count": 7,
   "id": "0814775b-6da1-40b3-a542-20ba65b60039",
   "metadata": {
    "tags": []
   },
   "outputs": [],
   "source": [
    "from pathlib import Path\n",
    "\n",
    "from pynwb import NWBHDF5IO\n",
    "from hdmf_zarr import NWBZarrIO\n",
    "# from nwbwidgets import nwb2widget"
   ]
  },
  {
   "cell_type": "code",
   "execution_count": 8,
   "id": "22f2232f-b624-4bdc-afd6-d730a7893fb2",
   "metadata": {
    "tags": []
   },
   "outputs": [],
   "source": [
    "results_path = Path(\"../results/\")"
   ]
  },
  {
   "cell_type": "code",
   "execution_count": 9,
   "id": "b20b3ea2-8c2b-4d1f-afd1-3832b4dcac82",
   "metadata": {
    "tags": []
   },
   "outputs": [],
   "source": [
    "nwbfile_paths = [p for p in results_path.iterdir() if \".nwb\" in p.suffixes]"
   ]
  },
  {
   "cell_type": "code",
   "execution_count": 10,
   "id": "592b5be4-07a2-470f-ab95-9c0a2da6e4c8",
   "metadata": {
    "tags": []
   },
   "outputs": [],
   "source": [
    "nwbfile_path = nwbfile_paths[0]"
   ]
  },
  {
   "cell_type": "code",
   "execution_count": 18,
   "id": "1ebc3ced-87d2-4c8a-b538-6e7fcdd1553a",
   "metadata": {
    "tags": []
   },
   "outputs": [],
   "source": [
    "nwbfile_path = results_path / \"ecephys_769884_2025-01-15_16-12-59_experiment1_recording1_stub.nwb\""
   ]
  },
  {
   "cell_type": "code",
   "execution_count": 19,
   "id": "93f82f8d-39b4-4988-b715-969b64756a19",
   "metadata": {
    "tags": []
   },
   "outputs": [],
   "source": [
    "if nwbfile_path.is_dir():\n",
    "    io = NWBZarrIO(str(nwbfile_path), \"r\")\n",
    "else:\n",
    "    io = NWBHDF5IO(str(nwbfile_path), \"r\")\n",
    "nwbfile = io.read()"
   ]
  },
  {
   "cell_type": "code",
   "execution_count": 34,
   "id": "5a21de37-ae4b-4cfa-b8ad-7713d6578bc8",
   "metadata": {
    "tags": []
   },
   "outputs": [
    {
     "data": {
      "text/plain": [
       "array(['ProbeA', 'ProbeA', 'ProbeA', ..., 'ProbeB', 'ProbeB', 'ProbeB'],\n",
       "      dtype=object)"
      ]
     },
     "execution_count": 34,
     "metadata": {},
     "output_type": "execute_result"
    }
   ],
   "source": [
    "nwbfile.units.device_name[:]"
   ]
  },
  {
   "cell_type": "code",
   "execution_count": 13,
   "id": "6d50ff64-5992-4bd4-a7ea-7ccc7033cd06",
   "metadata": {
    "tags": []
   },
   "outputs": [],
   "source": [
    "es1 = nwbfile.processing[\"ecephys\"][\"LFP\"][\"ElectricalSeriesProbeA-LFP\"]"
   ]
  },
  {
   "cell_type": "code",
   "execution_count": 10,
   "id": "96254d5b-35a8-4add-afc3-9d4619072c26",
   "metadata": {
    "tags": []
   },
   "outputs": [
    {
     "data": {
      "text/html": [
       "<div>\n",
       "<style scoped>\n",
       "    .dataframe tbody tr th:only-of-type {\n",
       "        vertical-align: middle;\n",
       "    }\n",
       "\n",
       "    .dataframe tbody tr th {\n",
       "        vertical-align: top;\n",
       "    }\n",
       "\n",
       "    .dataframe thead th {\n",
       "        text-align: right;\n",
       "    }\n",
       "</style>\n",
       "<table border=\"1\" class=\"dataframe\">\n",
       "  <thead>\n",
       "    <tr style=\"text-align: right;\">\n",
       "      <th></th>\n",
       "      <th>location</th>\n",
       "      <th>group</th>\n",
       "      <th>group_name</th>\n",
       "      <th>channel_name</th>\n",
       "      <th>inter_sample_shift</th>\n",
       "      <th>rel_x</th>\n",
       "      <th>rel_y</th>\n",
       "    </tr>\n",
       "    <tr>\n",
       "      <th>id</th>\n",
       "      <th></th>\n",
       "      <th></th>\n",
       "      <th></th>\n",
       "      <th></th>\n",
       "      <th></th>\n",
       "      <th></th>\n",
       "      <th></th>\n",
       "    </tr>\n",
       "  </thead>\n",
       "  <tbody>\n",
       "    <tr>\n",
       "      <th>0</th>\n",
       "      <td>unknown</td>\n",
       "      <td>ProbeA_group0 pynwb.ecephys.ElectrodeGroup at ...</td>\n",
       "      <td>ProbeA_group0</td>\n",
       "      <td>CH1</td>\n",
       "      <td>0.000</td>\n",
       "      <td>0.0</td>\n",
       "      <td>0.0</td>\n",
       "    </tr>\n",
       "    <tr>\n",
       "      <th>4</th>\n",
       "      <td>unknown</td>\n",
       "      <td>ProbeA_group0 pynwb.ecephys.ElectrodeGroup at ...</td>\n",
       "      <td>ProbeA_group0</td>\n",
       "      <td>CH5</td>\n",
       "      <td>0.125</td>\n",
       "      <td>0.0</td>\n",
       "      <td>30.0</td>\n",
       "    </tr>\n",
       "    <tr>\n",
       "      <th>8</th>\n",
       "      <td>unknown</td>\n",
       "      <td>ProbeA_group0 pynwb.ecephys.ElectrodeGroup at ...</td>\n",
       "      <td>ProbeA_group0</td>\n",
       "      <td>CH9</td>\n",
       "      <td>0.250</td>\n",
       "      <td>0.0</td>\n",
       "      <td>60.0</td>\n",
       "    </tr>\n",
       "    <tr>\n",
       "      <th>12</th>\n",
       "      <td>unknown</td>\n",
       "      <td>ProbeA_group0 pynwb.ecephys.ElectrodeGroup at ...</td>\n",
       "      <td>ProbeA_group0</td>\n",
       "      <td>CH13</td>\n",
       "      <td>0.375</td>\n",
       "      <td>0.0</td>\n",
       "      <td>90.0</td>\n",
       "    </tr>\n",
       "    <tr>\n",
       "      <th>16</th>\n",
       "      <td>unknown</td>\n",
       "      <td>ProbeA_group0 pynwb.ecephys.ElectrodeGroup at ...</td>\n",
       "      <td>ProbeA_group0</td>\n",
       "      <td>CH17</td>\n",
       "      <td>0.500</td>\n",
       "      <td>0.0</td>\n",
       "      <td>120.0</td>\n",
       "    </tr>\n",
       "    <tr>\n",
       "      <th>...</th>\n",
       "      <td>...</td>\n",
       "      <td>...</td>\n",
       "      <td>...</td>\n",
       "      <td>...</td>\n",
       "      <td>...</td>\n",
       "      <td>...</td>\n",
       "      <td>...</td>\n",
       "    </tr>\n",
       "    <tr>\n",
       "      <th>364</th>\n",
       "      <td>unknown</td>\n",
       "      <td>ProbeA_group3 pynwb.ecephys.ElectrodeGroup at ...</td>\n",
       "      <td>ProbeA_group3</td>\n",
       "      <td>CH365</td>\n",
       "      <td>0.375</td>\n",
       "      <td>750.0</td>\n",
       "      <td>570.0</td>\n",
       "    </tr>\n",
       "    <tr>\n",
       "      <th>368</th>\n",
       "      <td>unknown</td>\n",
       "      <td>ProbeA_group3 pynwb.ecephys.ElectrodeGroup at ...</td>\n",
       "      <td>ProbeA_group3</td>\n",
       "      <td>CH369</td>\n",
       "      <td>0.500</td>\n",
       "      <td>750.0</td>\n",
       "      <td>600.0</td>\n",
       "    </tr>\n",
       "    <tr>\n",
       "      <th>372</th>\n",
       "      <td>unknown</td>\n",
       "      <td>ProbeA_group3 pynwb.ecephys.ElectrodeGroup at ...</td>\n",
       "      <td>ProbeA_group3</td>\n",
       "      <td>CH373</td>\n",
       "      <td>0.625</td>\n",
       "      <td>750.0</td>\n",
       "      <td>630.0</td>\n",
       "    </tr>\n",
       "    <tr>\n",
       "      <th>376</th>\n",
       "      <td>unknown</td>\n",
       "      <td>ProbeA_group3 pynwb.ecephys.ElectrodeGroup at ...</td>\n",
       "      <td>ProbeA_group3</td>\n",
       "      <td>CH377</td>\n",
       "      <td>0.750</td>\n",
       "      <td>750.0</td>\n",
       "      <td>660.0</td>\n",
       "    </tr>\n",
       "    <tr>\n",
       "      <th>380</th>\n",
       "      <td>unknown</td>\n",
       "      <td>ProbeA_group3 pynwb.ecephys.ElectrodeGroup at ...</td>\n",
       "      <td>ProbeA_group3</td>\n",
       "      <td>CH381</td>\n",
       "      <td>0.875</td>\n",
       "      <td>750.0</td>\n",
       "      <td>690.0</td>\n",
       "    </tr>\n",
       "  </tbody>\n",
       "</table>\n",
       "<p>96 rows × 7 columns</p>\n",
       "</div>"
      ],
      "text/plain": [
       "    location                                              group  \\\n",
       "id                                                                \n",
       "0    unknown  ProbeA_group0 pynwb.ecephys.ElectrodeGroup at ...   \n",
       "4    unknown  ProbeA_group0 pynwb.ecephys.ElectrodeGroup at ...   \n",
       "8    unknown  ProbeA_group0 pynwb.ecephys.ElectrodeGroup at ...   \n",
       "12   unknown  ProbeA_group0 pynwb.ecephys.ElectrodeGroup at ...   \n",
       "16   unknown  ProbeA_group0 pynwb.ecephys.ElectrodeGroup at ...   \n",
       "..       ...                                                ...   \n",
       "364  unknown  ProbeA_group3 pynwb.ecephys.ElectrodeGroup at ...   \n",
       "368  unknown  ProbeA_group3 pynwb.ecephys.ElectrodeGroup at ...   \n",
       "372  unknown  ProbeA_group3 pynwb.ecephys.ElectrodeGroup at ...   \n",
       "376  unknown  ProbeA_group3 pynwb.ecephys.ElectrodeGroup at ...   \n",
       "380  unknown  ProbeA_group3 pynwb.ecephys.ElectrodeGroup at ...   \n",
       "\n",
       "        group_name channel_name  inter_sample_shift  rel_x  rel_y  \n",
       "id                                                                 \n",
       "0    ProbeA_group0          CH1               0.000    0.0    0.0  \n",
       "4    ProbeA_group0          CH5               0.125    0.0   30.0  \n",
       "8    ProbeA_group0          CH9               0.250    0.0   60.0  \n",
       "12   ProbeA_group0         CH13               0.375    0.0   90.0  \n",
       "16   ProbeA_group0         CH17               0.500    0.0  120.0  \n",
       "..             ...          ...                 ...    ...    ...  \n",
       "364  ProbeA_group3        CH365               0.375  750.0  570.0  \n",
       "368  ProbeA_group3        CH369               0.500  750.0  600.0  \n",
       "372  ProbeA_group3        CH373               0.625  750.0  630.0  \n",
       "376  ProbeA_group3        CH377               0.750  750.0  660.0  \n",
       "380  ProbeA_group3        CH381               0.875  750.0  690.0  \n",
       "\n",
       "[96 rows x 7 columns]"
      ]
     },
     "execution_count": 10,
     "metadata": {},
     "output_type": "execute_result"
    }
   ],
   "source": [
    "es1.electrodes[:]"
   ]
  },
  {
   "cell_type": "code",
   "execution_count": 10,
   "id": "8d9e7177-d251-412e-982e-4ccb0ca12b0b",
   "metadata": {
    "tags": []
   },
   "outputs": [],
   "source": [
    "es1 = nwbfile.processing[\"ecephys\"]"
   ]
  },
  {
   "cell_type": "code",
   "execution_count": null,
   "id": "e0d154f4-b239-48c3-b1a8-56a4d511492d",
   "metadata": {
    "tags": []
   },
   "outputs": [],
   "source": [
    "nwb2widget(nwbfile)"
   ]
  },
  {
   "cell_type": "code",
   "execution_count": null,
   "id": "3d7803a5-9b7c-4a3e-98dc-1ce92c781930",
   "metadata": {
    "tags": []
   },
   "outputs": [],
   "source": [
    "lfpA = nwbfile.processing[\"ecephys\"].data_interfaces[\"LFP\"][\"ElectricalSeriesProbeA-LFP\"]\n",
    "lfpA.electrodes.to_dataframe()[[\"channel_name\", \"group_name\"]]"
   ]
  },
  {
   "cell_type": "code",
   "execution_count": null,
   "id": "e7409d03-42ec-43dd-8780-43ebcdcd4bdd",
   "metadata": {
    "tags": []
   },
   "outputs": [],
   "source": [
    "lfpB = nwbfile.processing[\"ecephys\"].data_interfaces[\"LFP\"][\"ElectricalSeriesProbeB-LFP\"]\n",
    "lfpB.electrodes.to_dataframe()[[\"channel_name\", \"group_name\"]]"
   ]
  }
 ],
 "metadata": {
  "kernelspec": {
   "display_name": "Python 3 (ipykernel)",
   "language": "python",
   "name": "python3"
  },
  "language_info": {
   "codemirror_mode": {
    "name": "ipython",
    "version": 3
   },
   "file_extension": ".py",
   "mimetype": "text/x-python",
   "name": "python",
   "nbconvert_exporter": "python",
   "pygments_lexer": "ipython3",
   "version": "3.9.12"
  }
 },
 "nbformat": 4,
 "nbformat_minor": 5
}
